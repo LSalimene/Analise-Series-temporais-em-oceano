{
 "cells": [
  {
   "cell_type": "code",
   "execution_count": 1,
   "metadata": {},
   "outputs": [],
   "source": [
    "import numpy as np\n",
    "import matplotlib.pyplot as plt\n",
    "import scipy.io as sc\n",
    "import scipy as sp\n",
    "from scipy import signal\n",
    "import pandas as pd\n",
    "import statsmodels.stats.diagnostic as sm\n",
    "import math\n",
    "import obspy\n",
    "from obspy.signal.detrend import polynomial\n",
    "from statsmodels.tsa import stattools"
   ]
  },
  {
   "cell_type": "code",
   "execution_count": 2,
   "metadata": {},
   "outputs": [
    {
     "data": {
      "text/plain": [
       "{'__header__': b'MATLAB 5.0 MAT-file, Platform: MACI64, Created on: Mon Dec 11 22:05:45 2017',\n",
       " '__version__': '1.0',\n",
       " '__globals__': [],\n",
       " 't': array([[736142.83333333, 736142.875     , 736142.91666667, ...,\n",
       "         736228.04166667, 736228.08333333, 736228.125     ]]),\n",
       " 'T2': array([[21.97904   , 21.949865  , 21.897135  , ..., 23.39196842,\n",
       "         23.2793    , 23.27757895]]),\n",
       " 'S2': array([[34.3485    , 34.38085   , 34.5491    , ..., 34.56057895,\n",
       "         34.59442105, 34.59268421]]),\n",
       " 'chla2': array([[1.4532    , 1.5079    , 1.5626    , ..., 1.33415789, 1.33415789,\n",
       "         1.33415789]]),\n",
       " 'Turb2': array([[5.0984    , 5.5305    , 5.97465   , ..., 1.47273684, 1.63568421,\n",
       "         1.63568421]]),\n",
       " 'CDOM2': array([[4.40505   , 4.393     , 4.17355   , ..., 4.26952632, 4.37210526,\n",
       "         4.58994737]])}"
      ]
     },
     "execution_count": 2,
     "metadata": {},
     "output_type": "execute_result"
    }
   ],
   "source": [
    "dados = sc.loadmat('simcosta_sp1_clean2.mat')\n",
    "dados"
   ]
  }
 ],
 "metadata": {
  "kernelspec": {
   "display_name": "base",
   "language": "python",
   "name": "python3"
  },
  "language_info": {
   "codemirror_mode": {
    "name": "ipython",
    "version": 3
   },
   "file_extension": ".py",
   "mimetype": "text/x-python",
   "name": "python",
   "nbconvert_exporter": "python",
   "pygments_lexer": "ipython3",
   "version": "3.9.13"
  },
  "orig_nbformat": 4
 },
 "nbformat": 4,
 "nbformat_minor": 2
}
