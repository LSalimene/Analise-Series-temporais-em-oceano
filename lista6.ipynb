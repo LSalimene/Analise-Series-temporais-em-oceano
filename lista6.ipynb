{
 "cells": [
  {
   "cell_type": "code",
   "execution_count": 1,
   "metadata": {},
   "outputs": [],
   "source": [
    "import numpy as np\n",
    "import matplotlib.pyplot as plt\n",
    "import scipy.io as sc\n",
    "import scipy as sp\n",
    "from scipy import signal\n",
    "import pandas as pd\n",
    "import statsmodels.stats.diagnostic as sm\n",
    "import math\n",
    "import obspy\n",
    "from obspy.signal.detrend import polynomial\n",
    "from statsmodels.tsa import stattools"
   ]
  },
  {
   "cell_type": "code",
   "execution_count": 4,
   "metadata": {},
   "outputs": [],
   "source": [
    "dados = sc.loadmat('simcosta_sp1_clean2.mat')\n",
    "S = dados['S2']\n",
    "T = dados['T2']\n",
    "CDOM = dados['CDOM2']\n",
    "t = dados['t']\n",
    "turb = dados['Turb2']\n",
    "chla = dados['chla2']\n",
    "plt.style.use('ggplot')"
   ]
  }
 ],
 "metadata": {
  "kernelspec": {
   "display_name": "base",
   "language": "python",
   "name": "python3"
  },
  "language_info": {
   "codemirror_mode": {
    "name": "ipython",
    "version": 3
   },
   "file_extension": ".py",
   "mimetype": "text/x-python",
   "name": "python",
   "nbconvert_exporter": "python",
   "pygments_lexer": "ipython3",
   "version": "3.9.13"
  },
  "orig_nbformat": 4
 },
 "nbformat": 4,
 "nbformat_minor": 2
}
